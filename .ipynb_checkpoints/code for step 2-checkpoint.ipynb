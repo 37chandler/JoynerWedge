{
 "cells": [
  {
   "cell_type": "code",
   "execution_count": 1,
   "id": "6ffe0b75",
   "metadata": {},
   "outputs": [],
   "source": [
    "from google.cloud import bigquery\n",
    "from google.oauth2 import service_account\n",
    "import pandas as pd\n",
    "from pandas import DataFrame\n",
    "import pandas_gbq"
   ]
  },
  {
   "cell_type": "code",
   "execution_count": 2,
   "id": "170449c2",
   "metadata": {},
   "outputs": [],
   "source": [
    "service_path = \"D:\\\\gradschool\\\\ADA\\\\Wedge\\\\\"\n",
    "service_file = \"joynerwedge-c56d6d56d47d.json\"\n",
    "gbq_proj_id = \"joynerwedge\"\n",
    "gbq_dataset_id =\"JoynerWedgeV3\"\n",
    "\n",
    "private_key = service_path + service_file"
   ]
  },
  {
   "cell_type": "code",
   "execution_count": 3,
   "id": "acf6c38b",
   "metadata": {},
   "outputs": [],
   "source": [
    "# Get your credentials\n",
    "credentials = service_account.Credentials.from_service_account_file(service_path + service_file)\n",
    "\n",
    "# And create a client to talk to GBQ\n",
    "client = bigquery.Client(credentials = credentials, project=gbq_proj_id)"
   ]
  },
  {
   "cell_type": "markdown",
   "id": "dced1558",
   "metadata": {},
   "source": [
    "Query for getting all card numbers not 3, save the output in GBQ as a new table called AllCardNums"
   ]
  },
  {
   "cell_type": "code",
   "execution_count": null,
   "id": "17414ccd",
   "metadata": {},
   "outputs": [],
   "source": [
    "#Query for only card numbers choice\n",
    "qry = \"\"\"\n",
    "SELECT\n",
    "  Card_No\n",
    "FROM\n",
    "  `joynerwedge.JoynerWedgeV3.*`\n",
    "WHERE card_no not in (3)\n",
    "\n",
    "\n",
    "\"\"\"\n"
   ]
  },
  {
   "cell_type": "markdown",
   "id": "fddc968b",
   "metadata": {},
   "source": [
    "Code for getting random sample of Card Numbers"
   ]
  },
  {
   "cell_type": "code",
   "execution_count": null,
   "id": "60c7c0cf",
   "metadata": {},
   "outputs": [],
   "source": [
    "query = \"\"\"SELECT\n",
    "    DISTINCT Card_No\n",
    "  FROM\n",
    "    `joynerwedge.JoynerWedgeV3.AllCardNums`\n",
    "  WHERE\n",
    "    rand() <= .02\"\"\""
   ]
  },
  {
   "cell_type": "markdown",
   "id": "307186bb",
   "metadata": {},
   "source": [
    "code for getting all records for the random choice"
   ]
  },
  {
   "cell_type": "code",
   "execution_count": 4,
   "id": "04ea6a1e",
   "metadata": {},
   "outputs": [],
   "source": [
    "recordqry = \"\"\"SELECT\n",
    "  *\n",
    "FROM\n",
    "  `joynerwedge.JoynerWedgeV3.transArchive_*`\n",
    "WHERE\n",
    "  Card_No IN (\n",
    "  SELECT\n",
    "    DISTINCT Card_No\n",
    "  FROM\n",
    "    `joynerwedge.JoynerWedgeV3.AllCardNums`\n",
    "  WHERE\n",
    "    rand() <= .02)\n",
    "ORDER BY\n",
    "  Card_No\"\"\""
   ]
  },
  {
   "cell_type": "code",
   "execution_count": 5,
   "id": "9a738099",
   "metadata": {},
   "outputs": [],
   "source": [
    "#runs the query\n",
    "query_record = client.query(\n",
    "    recordqry,\n",
    "    location = \"US\")\n",
    "\n",
    "#writes the output for the end of Part 2\n",
    "with open(\"WedgeQueryofRandomCardHoldersResults.txt\",\"w\",encoding=\"utf-8\") as outfile:\n",
    "    for row in query_record:\n",
    "        outfile.write(\"\\t\".join([str(item) for item in row])+ \"\\n\")"
   ]
  }
 ],
 "metadata": {
  "kernelspec": {
   "display_name": "Python 3",
   "language": "python",
   "name": "python3"
  },
  "language_info": {
   "codemirror_mode": {
    "name": "ipython",
    "version": 3
   },
   "file_extension": ".py",
   "mimetype": "text/x-python",
   "name": "python",
   "nbconvert_exporter": "python",
   "pygments_lexer": "ipython3",
   "version": "3.8.8"
  }
 },
 "nbformat": 4,
 "nbformat_minor": 5
}
