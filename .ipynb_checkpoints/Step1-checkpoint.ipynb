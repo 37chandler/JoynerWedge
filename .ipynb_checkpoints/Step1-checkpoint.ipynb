{
 "cells": [
  {
   "cell_type": "markdown",
   "id": "7ddb67a5",
   "metadata": {},
   "source": [
    "You need to change the File and Table Name for every table"
   ]
  },
  {
   "cell_type": "code",
   "execution_count": null,
   "id": "eb6d8475",
   "metadata": {},
   "outputs": [],
   "source": [
    "from google.cloud import bigquery\n",
    "from google.oauth2 import service_account\n",
    "import pandas as pd\n",
    "from pandas import DataFrame\n",
    "import pandas_gbq\n",
    "import os"
   ]
  },
  {
   "cell_type": "markdown",
   "id": "2af4beb2",
   "metadata": {},
   "source": [
    "I don't think you actually have to run this code, but im keeping it here so I can come get it later when I need it for part 2"
   ]
  },
  {
   "cell_type": "markdown",
   "id": "b896a561",
   "metadata": {},
   "source": [
    "You will need to provide your own service path, service file, gbq project id, and dataset id. I have redacted mine so you can add yours into the quotation marks below"
   ]
  },
  {
   "cell_type": "code",
   "execution_count": null,
   "id": "78713025",
   "metadata": {},
   "outputs": [],
   "source": [
    "service_path = \"\"\n",
    "service_file = \"\"\n",
    "gbq_proj_id = \"\"\n",
    "gbq_dataset_id =\"\"\n",
    "\n",
    "private_key = service_path + service_file"
   ]
  },
  {
   "cell_type": "markdown",
   "id": "16d31fee",
   "metadata": {},
   "source": [
    "Same thing here"
   ]
  },
  {
   "cell_type": "code",
   "execution_count": null,
   "id": "3e9d977f",
   "metadata": {},
   "outputs": [],
   "source": [
    "# Get your credentials\n",
    "credentials = service_account.Credentials.from_service_account_file(service_path + service_file)\n",
    "\n",
    "# And create a client to talk to GBQ\n",
    "client = bigquery.Client(credentials = credentials, project=gbq_proj_id)"
   ]
  },
  {
   "cell_type": "markdown",
   "id": "6693edf2",
   "metadata": {},
   "source": [
    "You don't need to run this, Its just there if you want to run everything manually. I did it my first time, It sucked, run the automated part"
   ]
  },
  {
   "cell_type": "code",
   "execution_count": null,
   "id": "9c4d7ef2",
   "metadata": {},
   "outputs": [],
   "source": [
    "#Reading in one file to a data frame, then making a headers for the data\n",
    "df = pd.read_csv('transArchive_201204_201206_clean.csv', names =['DateTime','Register_Num','Emp_Num',\"Trans_Num\", \"UPC\",\"Description\",'Trans_Type',\"Trans_SubType\",'Trans_Status',\n",
    "                                                                 'Department','Quantity','Scale','Cost','Unit_Price','Total','Reg_Price','Alt_Price','Tax',\n",
    "                                                                 \"TaxExempt\",'Foodstamp','WicAble','Discount','memDiscount','Discountable','DiscountType',\n",
    "                                                                 'Voided','PercentDiscount','ItemQtty','volDiscType','Volume','VolSpecial','mixMatch','Matched'\n",
    "                                                                 ,'MemType','Staff','NumFlag','itemStatus','TenderStatus','CharFlag','varflag','BatchHeaderID','Local',\n",
    "                                                                 'Organic','Display','Receipt','Card_No','Store','Branch','Match_ID','Trans_ID'])\n",
    "\n",
    "\n",
    "cols_to_bool = [\"MemType\", \"Staff\", \"BatchHeaderID\", \"Display\"]\n",
    "df[cols_to_bool] = df[cols_to_bool].astype('bool')\n"
   ]
  },
  {
   "cell_type": "markdown",
   "id": "f18c12a5",
   "metadata": {},
   "source": [
    "Here is the pandas to gbq portion.\n",
    "You don't need to run this, Its just there if you want to run everything manually. I did it my first time, It sucked, run the automated part"
   ]
  },
  {
   "cell_type": "code",
   "execution_count": null,
   "id": "208722ad",
   "metadata": {},
   "outputs": [],
   "source": [
    "#This is the total amount of stuff you can put in the code, keeping it here for future reference\n",
    "#DataFrame.to_gbq(destination_table, project_id=None, chunksize=None, reauth=False,\n",
    "#if_exists='fail', auth_local_webserver=False,\n",
    "#table_schema=None, location=None, progress_bar=True, credentials=None)\n",
    "DataFrame.to_gbq(df,\"joynerwedge.JoynerWedgev2.transArchive_201307_201309_inactive_clean_test\",gbq_proj_id,chunksize = 500000, if_exists = \"replace\",\n",
    " table_schema = \n",
    "[{'name': 'DateTime', 'type': 'Timestamp'}, {'name': 'Register_Num', 'type': 'Float'},\n",
    "{'name': 'Emp_Num', 'type': 'Float'}, {'name': 'Trans_Num', 'type': 'Float'},\n",
    "{'name': 'UPC', 'type': 'string'}, {'name': 'Description', 'type': 'string'},\n",
    "{'name': 'Trans_Type', 'type': 'string'}, {'name': 'Trans_SubType', 'type': 'string'},\n",
    "{'name': 'Trans_Status', 'type': 'string'}, {'name': 'Department', 'type': 'Float'},\n",
    "{'name': 'Quantity', 'type': 'float'}, {'name': 'Scale', 'type': 'Float'},\n",
    "{'name': 'Cost', 'type': 'float'}, {'name': 'Unit_Price', 'type': 'float'},\n",
    "{'name': 'Total', 'type': 'float'}, {'name': 'Reg_Price', 'type': 'float'},\n",
    "{'name': 'Alt_Price', 'type': 'float'}, {'name': 'Tax', 'type': 'float'},\n",
    "{'name': 'TaxExempt', 'type': 'float'}, {'name': 'Foodstamp', 'type': 'Float'},\n",
    "{'name': 'WicAble', 'type': 'Float'}, {'name': 'Discount', 'type': 'float'},\n",
    "{'name': 'memDiscount', 'type': 'float'}, {'name': 'Discountable', 'type': 'float'},\n",
    "{'name': 'DiscountType', 'type': 'float'}, {'name': 'Voided', 'type': 'float'},\n",
    "{'name': 'PercentDiscount', 'type': 'float'}, {'name': 'ItemQtty', 'type': 'float'},\n",
    "{'name': 'volDiscType', 'type': 'float'}, {'name': 'Volume', 'type': 'float'},\n",
    "{'name': 'VolSpecial', 'type': 'float'}, {'name': 'mixMatch', 'type': 'float'},\n",
    "{'name': 'Matched', 'type': 'float'}, {'name': 'MemType', 'type': 'Boolean'},\n",
    "{'name': 'Staff', 'type': 'Boolean'}, {'name': 'NumFlag', 'type': 'float'},\n",
    "{'name': 'itemStatus', 'type': 'float'}, {'name': 'TenderStatus', 'type': 'float'},\n",
    "{'name': 'CharFlag', 'type': 'string'}, {'name': 'varFlag', 'type': 'float'},\n",
    "{'name': 'BatchHeaderID', 'type': 'boolean'}, {'name': 'Local', 'type': 'float'},\n",
    "{'name': 'Organic', 'type': 'float'}, {'name': 'Display', 'type': 'Boolean'},\n",
    "{'name': 'Receipt', 'type': 'float'}, {'name': 'Card_No', 'type': 'float'},\n",
    "{'name': 'Store', 'type': 'float'}, {'name': 'Branch', 'type': 'float'},\n",
    "{'name': 'Match_ID', 'type': 'float'}, {'name': 'Trans_ID', 'type': 'float'}])\n"
   ]
  },
  {
   "cell_type": "markdown",
   "id": "7509cca1",
   "metadata": {},
   "source": [
    "Start running this code for automation!"
   ]
  },
  {
   "cell_type": "code",
   "execution_count": null,
   "id": "22c9da35",
   "metadata": {},
   "outputs": [],
   "source": [
    "#Making a list that we can run through of the clean files\n",
    "files = []\n",
    "location = os.listdir(\"clean-files\")\n",
    "for item in location:\n",
    "    files.append(item)\n",
    "\n"
   ]
  },
  {
   "cell_type": "markdown",
   "id": "b60362a9",
   "metadata": {},
   "source": [
    "This chunk will load all of your data to gbq, it will take a few hours. "
   ]
  },
  {
   "cell_type": "code",
   "execution_count": null,
   "id": "0c791759",
   "metadata": {},
   "outputs": [],
   "source": [
    "#The project id needs to be changed to your project id. I am leaving mine in the code to show you how to format it\n",
    "projID = \"JoynerWedgeV3.\"\n",
    "# The loop that goes through each file and adds it to the data frame\n",
    "for item in files:\n",
    "    TableName = projID + item[:-4]\n",
    "    df = pd.read_csv( item, names =['DateTime','Register_Num','Emp_Num',\"Trans_Num\", \"UPC\",\"Description\",'Trans_Type',\"Trans_SubType\",'Trans_Status',\n",
    "                                                                 'Department','Quantity','Scale','Cost','Unit_Price','Total','Reg_Price','Alt_Price','Tax',\n",
    "                                                                 \"TaxExempt\",'Foodstamp','WicAble','Discount','memDiscount','Discountable','DiscountType',\n",
    "                                                                 'Voided','PercentDiscount','ItemQtty','volDiscType','Volume','VolSpecial','mixMatch','Matched'\n",
    "                                                                 ,'MemType','Staff','NumFlag','itemStatus','TenderStatus','CharFlag','varflag','BatchHeaderID','Local',\n",
    "                                                                 'Organic','Display','Receipt','Card_No','Store','Branch','Match_ID','Trans_ID'])\n",
    "    #you may encounter an error with the boolean values if you don't include the next two lines before you send to gbq\n",
    "    cols_to_bool = [\"MemType\", \"Staff\", \"BatchHeaderID\", \"Display\"]\n",
    "    df[cols_to_bool] = df[cols_to_bool].astype('bool')\n",
    "\n",
    "    \n",
    "    # Takes the Dataframe and sends it to GBQ\n",
    "    DataFrame.to_gbq(df,TableName,gbq_proj_id,chunksize  = 500000, if_exists = \"replace\",table_schema = \n",
    "    [{'name': 'DateTime', 'type': 'Timestamp'}, {'name': 'Register_Num', 'type': 'Float'},\n",
    "    {'name': 'Emp_Num', 'type': 'Float'}, {'name': 'Trans_Num', 'type': 'Float'},\n",
    "    {'name': 'UPC', 'type': 'string'}, {'name': 'Description', 'type': 'string'},\n",
    "    {'name': 'Trans_Type', 'type': 'string'}, {'name': 'Trans_SubType', 'type': 'string'},\n",
    "    {'name': 'Trans_Status', 'type': 'string'}, {'name': 'Department', 'type': 'Float'},\n",
    "    {'name': 'Quantity', 'type': 'float'}, {'name': 'Scale', 'type': 'Float'},\n",
    "    {'name': 'Cost', 'type': 'float'}, {'name': 'Unit_Price', 'type': 'float'},\n",
    "    {'name': 'Total', 'type': 'float'}, {'name': 'Reg_Price', 'type': 'float'},\n",
    "    {'name': 'Alt_Price', 'type': 'float'}, {'name': 'Tax', 'type': 'float'},\n",
    "    {'name': 'TaxExempt', 'type': 'float'}, {'name': 'Foodstamp', 'type': 'Float'},\n",
    "    {'name': 'WicAble', 'type': 'Float'}, {'name': 'Discount', 'type': 'float'},\n",
    "    {'name': 'memDiscount', 'type': 'float'}, {'name': 'Discountable', 'type': 'float'},\n",
    "    {'name': 'DiscountType', 'type': 'float'}, {'name': 'Voided', 'type': 'float'},\n",
    "    {'name': 'PercentDiscount', 'type': 'float'}, {'name': 'ItemQtty', 'type': 'float'},\n",
    "    {'name': 'volDiscType', 'type': 'float'}, {'name': 'Volume', 'type': 'float'},\n",
    "    {'name': 'VolSpecial', 'type': 'float'}, {'name': 'mixMatch', 'type': 'float'},\n",
    "    {'name': 'Matched', 'type': 'float'}, {'name': 'MemType', 'type': 'Boolean'},\n",
    "    {'name': 'Staff', 'type': 'Boolean'}, {'name': 'NumFlag', 'type': 'float'},\n",
    "    {'name': 'itemStatus', 'type': 'float'}, {'name': 'TenderStatus', 'type': 'float'},\n",
    "    {'name': 'CharFlag', 'type': 'string'}, {'name': 'varFlag', 'type': 'float'},\n",
    "    {'name': 'BatchHeaderID', 'type': 'boolean'}, {'name': 'Local', 'type': 'float'},\n",
    "    {'name': 'Organic', 'type': 'float'}, {'name': 'Display', 'type': 'Boolean'},\n",
    "    {'name': 'Receipt', 'type': 'float'}, {'name': 'Card_No', 'type': 'float'},\n",
    "    {'name': 'Store', 'type': 'float'}, {'name': 'Branch', 'type': 'float'},\n",
    "    {'name': 'Match_ID', 'type': 'float'}, {'name': 'Trans_ID', 'type': 'float'}])\n"
   ]
  }
 ],
 "metadata": {
  "kernelspec": {
   "display_name": "Python 3",
   "language": "python",
   "name": "python3"
  },
  "language_info": {
   "codemirror_mode": {
    "name": "ipython",
    "version": 3
   },
   "file_extension": ".py",
   "mimetype": "text/x-python",
   "name": "python",
   "nbconvert_exporter": "python",
   "pygments_lexer": "ipython3",
   "version": "3.8.8"
  }
 },
 "nbformat": 4,
 "nbformat_minor": 5
}
